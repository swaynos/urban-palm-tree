{
 "cells": [
  {
   "cell_type": "markdown",
   "metadata": {},
   "source": []
  },
  {
   "cell_type": "markdown",
   "metadata": {},
   "source": [
    "# Developing a Model to Analyze Squad Battles Selection\n",
    "\n",
    "## Environment Setup"
   ]
  },
  {
   "cell_type": "code",
   "execution_count": 3,
   "metadata": {},
   "outputs": [],
   "source": [
    "%%capture\n",
    "%pip install huggingface_hub numpy python-dotenv ultralytics"
   ]
  },
  {
   "cell_type": "markdown",
   "metadata": {},
   "source": [
    "## Common Utilities\n",
    "\n",
    "This section includes utility functions that are common across various parts of the notebook, aimed at streamlining workflow and simplifying code reuse.\n",
    "\n",
    "### Additional helper functions can be defined below as needed"
   ]
  },
  {
   "cell_type": "code",
   "execution_count": 1,
   "metadata": {},
   "outputs": [],
   "source": [
    "import os\n",
    "from dotenv import load_dotenv\n",
    "\n",
    "# Load environment variables from .env file located one directory above the current notebook directory\n",
    "load_dotenv(os.path.abspath(os.path.join('..', '.env')))  # Use relative path\n",
    "\n",
    "# Retrieve the Hugging Face username and token from the environment\n",
    "hf_username = os.getenv(\"HF_USERNAME\")\n",
    "hf_token = os.getenv(\"HF_TOKEN\")"
   ]
  },
  {
   "cell_type": "markdown",
   "metadata": {},
   "source": [
    "## Training\n",
    "Train a model to classify available options in the squad battles selection menu.  "
   ]
  },
  {
   "cell_type": "code",
   "execution_count": null,
   "metadata": {},
   "outputs": [],
   "source": [
    "from ultralytics import YOLO\n",
    "import os\n",
    "\n",
    "# Load YOLOv8 model\n",
    "model = YOLO(\"yolov8n.pt\")  # Use YOLOv8n, v8s, etc., depending on your needs\n",
    "\n",
    "# Define the dataset path\n",
    "dataset_path = os.path.expanduser(\"~/Downloads/project-3-at-2024-12-29-06-36-a6a284dc/dataset.yaml\")  # Use os.path.expanduser to handle '~'\n",
    "\n",
    "# Train model\n",
    "model.train(\n",
    "    data=dataset_path,  # Updated path to the dataset YAML\n",
    "    imgsz=640,\n",
    "    epochs=50,\n",
    "    batch=16,\n",
    "    name=\"yolo_training\",\n",
    ")"
   ]
  },
  {
   "cell_type": "markdown",
   "metadata": {},
   "source": [
    "# Inference of the Model"
   ]
  },
  {
   "cell_type": "code",
   "execution_count": null,
   "metadata": {},
   "outputs": [],
   "source": [
    "# Required imports\n",
    "import json\n",
    "import numpy as np\n",
    "from ultralytics import YOLO\n",
    "from huggingface_hub import hf_hub_download\n",
    "from PIL import Image\n",
    "import sys\n",
    "import os\n",
    "\n",
    "# Adding the directory containing 'src' to the system path\n",
    "sys.path.append(os.path.abspath(os.path.join(os.getcwd(), '..')))\n",
    "\n",
    "# Load src.config to check the variables\n",
    "import src.config as config\n",
    "\n",
    "# Load the trained YOLO model\n",
    "model_path = hf_hub_download(config.HF_SQUAD_SELECTION_PATH, config.SQUAD_SELECTION_FILENAME)\n",
    "model = YOLO(model_path)\n",
    "\n",
    "# Directory containing the images for inference\n",
    "source_dir = os.path.expanduser(\"../screenshots/jpg/cropped/sample\")  # Expand ~ to full path\n",
    "output_dir = \"runs/detect\"  # Define output directory for annotations\n",
    "output_json_path = os.path.join(output_dir, \"annotations.json\")  # Path for JSON annotations\n",
    "\n",
    "# Ensure the output directory exists\n",
    "if not os.path.exists(output_dir):\n",
    "    os.makedirs(output_dir)\n",
    "\n",
    "# Initialize list for annotations\n",
    "annotations = []\n",
    "\n",
    "# Base URL of the locally hosted server\n",
    "base_url = \"http://127.0.0.1:8085/\"\n",
    "\n",
    "# Counter for generating unique numeric IDs\n",
    "image_id_counter = 1\n",
    "result_id_counter = 1\n",
    "\n",
    "# Iterate through all images in the directory\n",
    "for filename in os.listdir(source_dir):\n",
    "    if filename.endswith(\".jpg\"):\n",
    "        image_path = os.path.join(source_dir, filename)\n",
    "        image = Image.open(image_path).convert(\"RGB\")\n",
    "\n",
    "        # Convert PIL image to NumPy array\n",
    "        image_np = np.array(image)\n",
    "\n",
    "        # Send the image to the YOLO model for detection without saving images\n",
    "        model_result = model.predict(source=image_np, imgsz=640, conf=0.25, save=False)  # Set save=False\n",
    "\n",
    "        # Get the bounding boxes, confidence, and class IDs\n",
    "        boxes = model_result[0].boxes.xyxy.cpu().numpy()  # (x1, y1, x2, y2)\n",
    "        conf = model_result[0].boxes.conf.cpu().numpy()\n",
    "        cls = model_result[0].boxes.cls.cpu().numpy().astype(int)\n",
    "\n",
    "        # Initialize the overall annotation structure for the current image\n",
    "        image_annotations = {\n",
    "            \"id\": image_id_counter,  # Use a counter for the ID of the image entry\n",
    "            \"data\": {\n",
    "                \"image\": f\"{base_url}{filename}\",  \n",
    "            },\n",
    "            \"annotations\": [\n",
    "                {\n",
    "                \"id\": 1,  \n",
    "                \"result\": []\n",
    "                }\n",
    "            ]\n",
    "        }\n",
    "\n",
    "        # Populate the annotations list to match the specified format\n",
    "        for box, confidence, class_id in zip(boxes, conf, cls):\n",
    "            x1, y1, x2, y2 = box.astype(float)\n",
    "            width = x2 - x1\n",
    "            height = y2 - y1\n",
    "            if confidence > config.SQUAD_SELECTION_CONF_THRESHOLD:\n",
    "                result = {\n",
    "                    \"original_width\": image.width,\n",
    "                    \"original_height\": image.height,\n",
    "                    \"image_rotation\": 0,\n",
    "                    \"value\": {\n",
    "                        \"x\": x1 / image.width * 100,  # Calculate relative x\n",
    "                        \"y\": y1 / image.height * 100,  # Calculate relative y\n",
    "                        \"width\": width / image.width * 100,  # Width in percentage\n",
    "                        \"height\": height / image.height * 100,  # Height in percentage\n",
    "                        \"rotation\": 0,\n",
    "                        \"rectanglelabels\": [model_result[0].names[class_id]]  # Replace with actual class names\n",
    "                    },\n",
    "                    \"id\": result_id_counter,  # Use the same counter\n",
    "                    \"from_name\": \"label\",\n",
    "                    \"to_name\": \"image\",\n",
    "                    \"type\": \"rectanglelabels\",\n",
    "                    \"origin\": \"manual\"\n",
    "                }\n",
    "                image_annotations[\"annotations\"][0][\"result\"].append(result)  # Fix applied here\n",
    "                result_id_counter += 1  # Increment the annotation ID for the next annotation\n",
    "\n",
    "        # Append image annotations to the master list\n",
    "        annotations.append(image_annotations)\n",
    "        image_id_counter += 1  # Increment the image ID for the next image\n",
    "\n",
    "# Save annotations to JSON file\n",
    "with open(output_json_path, 'w') as json_file:\n",
    "    json.dump(annotations, json_file, indent=4)\n",
    "\n",
    "print(f\"Annotations saved to {output_json_path}.\")"
   ]
  },
  {
   "cell_type": "markdown",
   "metadata": {},
   "source": [
    "## Host HTTP Server Locally for Image Files\n",
    "To verify the run using Label Studio, host the image files so that the annotations.json can be imported properly."
   ]
  },
  {
   "cell_type": "code",
   "execution_count": 14,
   "metadata": {},
   "outputs": [],
   "source": [
    "%%capture\n",
    "%pip install Flask Flask-CORS"
   ]
  },
  {
   "cell_type": "code",
   "execution_count": null,
   "metadata": {},
   "outputs": [],
   "source": [
    "from flask import Flask, send_from_directory\n",
    "from flask_cors import CORS\n",
    "import threading\n",
    "import os\n",
    "\n",
    "app = Flask(__name__)\n",
    "CORS(app)  # Enable CORS for all routes\n",
    "\n",
    "# Assuming source_dir is defined in an earlier cell\n",
    "if source_dir:\n",
    "    directory_to_serve = source_dir\n",
    "else:\n",
    "    # Otherwise just host the Desktop\n",
    "    directory_to_serve = os.path.expanduser(\"~/Desktop/results\")\n",
    "\n",
    "@app.route('/<path:filename>', methods=['GET'])\n",
    "def serve_image(filename):\n",
    "    return send_from_directory(directory_to_serve, filename)\n",
    "\n",
    "# Function to run the server\n",
    "def run_server():\n",
    "    app.run(host='0.0.0.0', port=8085)  # Bind to all interfaces\n",
    "\n",
    "# Start the server in a new thread\n",
    "threading.Thread(target=run_server).start()"
   ]
  },
  {
   "cell_type": "markdown",
   "metadata": {},
   "source": [
    "# Upload to HuggingFace"
   ]
  },
  {
   "cell_type": "code",
   "execution_count": null,
   "metadata": {},
   "outputs": [],
   "source": [
    "from huggingface_hub import HfApi, Repository\n",
    "import os\n",
    "import shutil\n",
    "\n",
    "# Set your Hugging Face token and repository name\n",
    "repo_name = \"fc24-squad-battles-selection\"  # Replace with the desired repository name\n",
    "\n",
    "# Define paths\n",
    "model_dir = \"./runs/detect/yolo_training\" \n",
    "local_repo_dir = f\"huggingface_yolo_repo\"  # Temporary local directory for the repository\n",
    "\n",
    "# Create a new repository on Hugging Face (or use an existing one)\n",
    "api = HfApi()\n",
    "repo_url = api.create_repo(repo_id=repo_name, token=hf_token, exist_ok=True)\n",
    "\n",
    "# Add user information\n",
    "git_user = \"bendythepirate\"        # Replace with your Hugging Face username\n",
    "git_email = \"bendy@bendythepirate.com\"  # Replace with your email associated with Hugging Face\n",
    "\n",
    "# Clone the repository to a local folder with the token\n",
    "repo = Repository(\n",
    "    local_dir=local_repo_dir,\n",
    "    clone_from=repo_url,\n",
    "    use_auth_token=hf_token,\n",
    "    git_user=git_user,\n",
    "    git_email=git_email\n",
    ")\n",
    "\n",
    "# Copy all files from the training directory to the repository\n",
    "shutil.copytree(model_dir, os.path.join(local_repo_dir, \"weights\"), dirs_exist_ok=True)\n",
    "\n",
    "# Push the files to Hugging Face\n",
    "repo.push_to_hub(commit_message=\"Upload YOLO training output\")\n",
    "\n",
    "print(f\"Files uploaded successfully! View the repository here: {repo_url}\")\n"
   ]
  }
 ],
 "metadata": {
  "kernelspec": {
   "display_name": ".venv",
   "language": "python",
   "name": "python3"
  },
  "language_info": {
   "codemirror_mode": {
    "name": "ipython",
    "version": 3
   },
   "file_extension": ".py",
   "mimetype": "text/x-python",
   "name": "python",
   "nbconvert_exporter": "python",
   "pygments_lexer": "ipython3",
   "version": "3.10.14"
  }
 },
 "nbformat": 4,
 "nbformat_minor": 2
}

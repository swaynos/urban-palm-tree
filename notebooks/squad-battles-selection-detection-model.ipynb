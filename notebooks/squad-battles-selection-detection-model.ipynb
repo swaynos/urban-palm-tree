{
 "cells": [
  {
   "cell_type": "markdown",
   "metadata": {},
   "source": []
  },
  {
   "cell_type": "markdown",
   "metadata": {},
   "source": [
    "# Developing a Model to Analyze Squad Battles Selection\n",
    "\n",
    "## Environment Setup"
   ]
  },
  {
   "cell_type": "code",
   "execution_count": 16,
   "metadata": {},
   "outputs": [],
   "source": [
    "%%capture\n",
    "%pip install huggingface_hub numpy python-dotenv ultralytics"
   ]
  },
  {
   "cell_type": "markdown",
   "metadata": {},
   "source": [
    "## Common Utilities\n",
    "\n",
    "This section includes utility functions that are common across various parts of the notebook, aimed at streamlining workflow and simplifying code reuse.\n",
    "\n",
    "### Additional helper functions can be defined below as needed"
   ]
  },
  {
   "cell_type": "code",
   "execution_count": 1,
   "metadata": {},
   "outputs": [],
   "source": [
    "import os\n",
    "from dotenv import load_dotenv\n",
    "\n",
    "# Load environment variables from .env file located one directory above the current notebook directory\n",
    "load_dotenv(os.path.abspath(os.path.join('..', '.env')))  # Use relative path\n",
    "\n",
    "# Retrieve the Hugging Face username and token from the environment\n",
    "hf_username = os.getenv(\"HF_USERNAME\")\n",
    "hf_token = os.getenv(\"HF_TOKEN\")"
   ]
  },
  {
   "cell_type": "markdown",
   "metadata": {},
   "source": [
    "## Training\n",
    "Train a model to classify available options in the squad battles selection menu.  "
   ]
  },
  {
   "cell_type": "code",
   "execution_count": null,
   "metadata": {},
   "outputs": [],
   "source": [
    "from ultralytics import YOLO\n",
    "import os\n",
    "\n",
    "# Load YOLOv8 model\n",
    "model = YOLO(\"yolov8n.pt\")  # Use YOLOv8n, v8s, etc., depending on your needs\n",
    "\n",
    "# Define the dataset path\n",
    "dataset_path = os.path.expanduser(\"~/Downloads/project-3-at-2024-12-07-19-47-2f045ff7/dataset.yaml\")  # Use os.path.expanduser to handle '~'\n",
    "\n",
    "# Train model\n",
    "model.train(\n",
    "    data=dataset_path,  # Updated path to the dataset YAML\n",
    "    imgsz=640,\n",
    "    epochs=50,\n",
    "    batch=16,\n",
    "    name=\"yolo_training\",\n",
    ")"
   ]
  },
  {
   "cell_type": "markdown",
   "metadata": {},
   "source": [
    "# Inference of the Model"
   ]
  },
  {
   "cell_type": "code",
   "execution_count": null,
   "metadata": {},
   "outputs": [],
   "source": [
    "from dotenv import load_dotenv\n",
    "from ultralytics import YOLO\n",
    "from huggingface_hub import hf_hub_download\n",
    "from PIL import Image  # Ensure correct import for Image\n",
    "import numpy as np\n",
    "\n",
    "import sys\n",
    "import os\n",
    "\n",
    "# Adding the directory containing 'src' to the system path\n",
    "sys.path.append(os.path.abspath(os.path.join(os.getcwd(), '..')))\n",
    "\n",
    "# Load src.config to check the variables\n",
    "import src.config as config\n",
    "\n",
    "# Load the trained YOLO model\n",
    "model_path = hf_hub_download(config.HF_SQUAD_SELECTION_PATH, config.SQUAD_SELECTION_FILENAME)\n",
    "model = YOLO(model_path)\n",
    "\n",
    "# Directory containing the images for inference\n",
    "source_dir = os.path.expanduser(\"../screenshots/jpg/cropped\")  # Expand ~ to full path\n",
    "output_dir = \"runs/detect/inference\"  # YOLO saves results here by default\n",
    "\n",
    "# Iterate through all images in this directory\n",
    "for filename in os.listdir(source_dir):\n",
    "    if filename.endswith(\".jpg\"): \n",
    "        image_path = os.path.join(source_dir, filename)\n",
    "        image = Image.open(image_path)\n",
    "\n",
    "        # Send the image to the YOLO model for detection\n",
    "        # This will output to stdout by default\n",
    "        result = model.predict(source=image, imgsz=640, conf=0.25)\n",
    "        if len(result[0].boxes) > 0:  # Check if there are no boxes\n",
    "            print(result[0].boxes)\n",
    "            # From here, the bbox coordinates can be retrieved for a deeper analysis"
   ]
  },
  {
   "cell_type": "markdown",
   "metadata": {},
   "source": [
    "# Upload to HuggingFace"
   ]
  },
  {
   "cell_type": "code",
   "execution_count": null,
   "metadata": {},
   "outputs": [],
   "source": [
    "from huggingface_hub import HfApi, Repository\n",
    "import os\n",
    "import shutil\n",
    "\n",
    "# Set your Hugging Face token and repository name\n",
    "repo_name = \"fc24-squad-battles-selection\"  # Replace with the desired repository name\n",
    "\n",
    "# Define paths\n",
    "model_dir = \"./runs/detect/yolo_training\" \n",
    "local_repo_dir = f\"huggingface_yolo_repo\"  # Temporary local directory for the repository\n",
    "\n",
    "# Create a new repository on Hugging Face (or use an existing one)\n",
    "api = HfApi()\n",
    "repo_url = api.create_repo(repo_id=repo_name, token=hf_token, exist_ok=True)\n",
    "\n",
    "# Clone the repository to a local folder with the token\n",
    "repo = Repository(local_dir=local_repo_dir, clone_from=repo_url, use_auth_token=True)\n",
    "\n",
    "# Copy all files from the training directory to the repository\n",
    "shutil.copytree(model_dir, os.path.join(local_repo_dir, \"weights\"), dirs_exist_ok=True)\n",
    "\n",
    "# Push the files to Hugging Face\n",
    "repo.push_to_hub(commit_message=\"Upload YOLO training output\")\n",
    "\n",
    "print(f\"Files uploaded successfully! View the repository here: {repo_url}\")\n"
   ]
  }
 ],
 "metadata": {
  "kernelspec": {
   "display_name": "jupyter",
   "language": "python",
   "name": "python3"
  },
  "language_info": {
   "codemirror_mode": {
    "name": "ipython",
    "version": 3
   },
   "file_extension": ".py",
   "mimetype": "text/x-python",
   "name": "python",
   "nbconvert_exporter": "python",
   "pygments_lexer": "ipython3",
   "version": "3.10.14"
  }
 },
 "nbformat": 4,
 "nbformat_minor": 2
}

{
 "cells": [
  {
   "cell_type": "code",
   "execution_count": null,
   "metadata": {},
   "outputs": [],
   "source": [
    "# This notebook shows how to convert PNG images to JPEG format using the Python library PIL (Pillow). This should save 80% of the storage space."
   ]
  },
  {
   "cell_type": "code",
   "execution_count": null,
   "metadata": {},
   "outputs": [],
   "source": [
    "%pip install pillow"
   ]
  },
  {
   "cell_type": "code",
   "execution_count": null,
   "metadata": {},
   "outputs": [],
   "source": [
    "import os\n",
    "from PIL import Image\n",
    "\n",
    "# Input and output directories\n",
    "input_dir = '../screenshots'  # Replace with your input directory\n",
    "output_dir = '../screenshots/jpg'  # Replace with your output directory\n",
    "\n",
    "# Create the output directory if it doesn't exist\n",
    "os.makedirs(output_dir, exist_ok=True)\n",
    "\n",
    "# Loop through all PNG files in the input directory\n",
    "for file_name in os.listdir(input_dir):\n",
    "    if file_name.lower().endswith('.png'):\n",
    "        png_file_path = os.path.join(input_dir, file_name)\n",
    "        \n",
    "        # Create the output file name by replacing .png with .jpg\n",
    "        base_name = os.path.splitext(file_name)[0]\n",
    "        jpg_file_path = os.path.join(output_dir, f\"{base_name}.jpg\")\n",
    "        \n",
    "        # Open the PNG file\n",
    "        with Image.open(png_file_path) as img:\n",
    "            # Convert to RGB (JPEG does not support transparency)\n",
    "            rgb_img = img.convert('RGB')\n",
    "            # Save as JPEG with quality (compression)\n",
    "            rgb_img.save(jpg_file_path, 'JPEG', quality=80)  # Adjust quality as needed (1-100)\n",
    "        \n",
    "        print(f\"Converted: {png_file_path} -> {jpg_file_path}\")\n",
    "\n",
    "print(\"Conversion completed. Check the output directory.\")"
   ]
  }
 ],
 "metadata": {
  "kernelspec": {
   "display_name": "jupyter",
   "language": "python",
   "name": "python3"
  },
  "language_info": {
   "codemirror_mode": {
    "name": "ipython",
    "version": 3
   },
   "file_extension": ".py",
   "mimetype": "text/x-python",
   "name": "python",
   "nbconvert_exporter": "python",
   "pygments_lexer": "ipython3",
   "version": "3.10.14"
  }
 },
 "nbformat": 4,
 "nbformat_minor": 2
}

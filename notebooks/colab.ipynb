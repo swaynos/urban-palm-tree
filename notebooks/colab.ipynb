{
  "cells": [
    {
      "cell_type": "markdown",
      "metadata": {},
      "source": [
        "# Running an Inference Web Service on Colab\n",
        "This notebook clones the entire repository on Google Colab and launches the inference service as a web application."
      ]
    },
    {
      "cell_type": "code",
      "execution_count": null,
      "metadata": {
        "id": "V5ncnPg23cDb"
      },
      "outputs": [],
      "source": [
        "%%capture\n",
        "%%sh\n",
        "git clone https://github.com/swaynos/urban-palm-tree.git\n",
        "pip install aiofiles dotenv huggingface_hub ultralytics Flask"
      ]
    },
    {
      "cell_type": "code",
      "execution_count": null,
      "metadata": {
        "colab": {
          "base_uri": "https://localhost:8080/"
        },
        "id": "0-gqDCWX3lcp",
        "outputId": "eaee06b3-0f1f-43c4-9f59-26b0ac6b8fb7"
      },
      "outputs": [],
      "source": [
        "%cd urban-palm-tree/src"
      ]
    },
    {
      "cell_type": "code",
      "execution_count": null,
      "metadata": {
        "colab": {
          "base_uri": "https://localhost:8080/"
        },
        "id": "lbqr_lHD6h-8",
        "outputId": "05e1b025-b803-46cf-938d-eb5454c7d2b1"
      },
      "outputs": [],
      "source": [
        "import asyncio\n",
        "from flask import Flask, request, jsonify\n",
        "from inference.yolo_object_detector import YoloObjectDetector\n",
        "from inference.rush_inference import parse_rush_model_results\n",
        "from utilities import config\n",
        "from PIL import Image\n",
        "\n",
        "# Create a Flask app\n",
        "app = Flask(__name__)\n",
        "\n",
        "PORT = 6969\n",
        "\n",
        "# Initialize the detector\n",
        "detector = YoloObjectDetector(config.HF_RUSH_DETECTION_PATH, config.HF_RUSH_DETECTION_FILENAME)\n",
        "\n",
        "# Define a route for the inference\n",
        "@app.route('/detect', methods=['POST'])\n",
        "def detect_objects():\n",
        "    # Check if an image file was provided\n",
        "    if 'file' not in request.files:\n",
        "        return jsonify({'error': 'No file part'}), 400\n",
        "    file = request.files['file']\n",
        "\n",
        "    if file.filename == '':\n",
        "        return jsonify({'error': 'No selected file'}), 400\n",
        "\n",
        "    try:\n",
        "        # Open the image file\n",
        "        image = Image.open(file)\n",
        "\n",
        "        # Run the detector. Keep in mind this is a syncrhonous operation\n",
        "        results = asyncio.run(detector.detect_objects(image, parse_rush_model_results))\n",
        "\n",
        "        # Return the results as JSON\n",
        "        return jsonify(results), 200\n",
        "    except Exception as e:\n",
        "        return jsonify({'error': str(e)}), 500\n",
        "    \n",
        "# Run the app\n",
        "if __name__ == '__main__':\n",
        "    app.run(host='0.0.0.0', port=PORT)"
      ]
    },
    {
      "cell_type": "code",
      "execution_count": null,
      "metadata": {
        "colab": {
          "base_uri": "https://localhost:8080/"
        },
        "id": "RdxwSveZTfXN",
        "outputId": "4c46263e-5355-4ec2-f5e3-7c89087b57dd"
      },
      "outputs": [],
      "source": [
        "# If running on Colab\n",
        "!pip install pyngrok\n",
        "from google.colab import userdata\n",
        "from pyngrok import ngrok\n",
        "import os\n",
        "\n",
        "NGROK = userdata.get('NGROK')  # Replace with your ngrok token\n",
        "ngrok.set_auth_token(NGROK)\n",
        "\n",
        "# Define a function to start Flask\n",
        "def run_app():\n",
        "    os.system(f\"python3 -m flask run --host=0.0.0.0 --port={PORT}\")\n",
        "\n",
        "# Start Flask in the background\n",
        "import threading\n",
        "threading.Thread(target=run_app).start()\n",
        "\n",
        "# Step 5: Set up ngrok tunnel\n",
        "public_url = ngrok.connect(PORT)\n",
        "print(f\"ngrok tunnel \\\"{public_url}\\\" -> \\\"http://127.0.0.1:{PORT}\\\"\")\n",
        "\n",
        "# Run the app\n",
        "if __name__ == '__main__':\n",
        "    app.run(host='0.0.0.0', port=PORT)"
      ]
    },
    {
      "cell_type": "code",
      "execution_count": null,
      "metadata": {
        "id": "5obZQGNBSYFa"
      },
      "outputs": [],
      "source": []
    }
  ],
  "metadata": {
    "accelerator": "GPU",
    "colab": {
      "gpuType": "T4",
      "provenance": []
    },
    "kernelspec": {
      "display_name": "Python 3",
      "name": "python3"
    },
    "language_info": {
      "name": "python"
    }
  },
  "nbformat": 4,
  "nbformat_minor": 0
}

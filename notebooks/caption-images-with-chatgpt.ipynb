{
 "cells": [
  {
   "cell_type": "markdown",
   "metadata": {
    "vscode": {
     "languageId": "plaintext"
    }
   },
   "source": [
    "# Caption Images with Chat GPT\n",
    "Using ChatGPT one can caption the image, or otherwise label the image with a description or decision. "
   ]
  },
  {
   "cell_type": "code",
   "execution_count": null,
   "metadata": {},
   "outputs": [],
   "source": [
    "# Install necessary packages\n",
    "%pip install openai pillow"
   ]
  },
  {
   "cell_type": "code",
   "execution_count": null,
   "metadata": {},
   "outputs": [],
   "source": [
    "# Import the required libraries\n",
    "import openai\n",
    "from PIL import Image\n",
    "import io\n",
    "import base64\n",
    "import os\n",
    "\n",
    "# Set your OpenAI API key\n",
    "openai.api_key = os.environ.get(\"OPENAI_API_KEY\")\n"
   ]
  },
  {
   "cell_type": "code",
   "execution_count": null,
   "metadata": {},
   "outputs": [],
   "source": [
    "# Define a function to compress the image\n",
    "def compress_image(image_path, max_size=(512, 512), quality=75):\n",
    "    img = Image.open(image_path)\n",
    "    img.thumbnail(max_size)\n",
    "    \n",
    "    buffer = io.BytesIO()\n",
    "    img.save(buffer, format=\"JPEG\", quality=quality)\n",
    "    buffer.seek(0)\n",
    "    \n",
    "    return buffer"
   ]
  },
  {
   "cell_type": "code",
   "execution_count": null,
   "metadata": {},
   "outputs": [],
   "source": [
    "# Load and compress your image\n",
    "image_path = \"../static_screenshots/new-screenshot1739124955.0942311_cropped.jpg\"  # Change this to your image path\n",
    "compressed_image = compress_image(image_path)\n",
    "# Convert image to base64 for API upload\n",
    "image_base64 = base64.b64encode(compressed_image.read()).decode('utf-8')"
   ]
  },
  {
   "cell_type": "code",
   "execution_count": 29,
   "metadata": {},
   "outputs": [],
   "source": [
    "# Send the image to ChatGPT API with a prompt\n",
    "prompt=\"Based on the screenshot provided, which action should the user-controlled-player **immediately** take in the game? The available options are move, pass, tackle, and shoot. Also specify the direction in which the action should take place in degrees from the player's perspective, if applicable.\"\n",
    "response = openai.chat.completions.create(\n",
    "    model=\"gpt-4o-mini\",\n",
    "    messages=[\n",
    "        {\n",
    "            \"role\": \"user\",\n",
    "            \"content\": [\n",
    "                {\"type\": \"text\", \"text\": prompt},\n",
    "                {\"type\": \"image_url\", \"image_url\": {\"url\": f\"data:image/jpeg;base64,{image_base64}\"}}\n",
    "            ]\n",
    "        }\n",
    "    ],\n",
    "    max_tokens=100\n",
    ")"
   ]
  },
  {
   "cell_type": "code",
   "execution_count": null,
   "metadata": {},
   "outputs": [
    {
     "name": "stdout",
     "output_type": "stream",
     "text": [
      "Suggested Caption: In the screenshot provided, the user-controlled player has a chance to either pass or shoot, given that they are positioned closer to the goal compared to other players. \n",
      "\n",
      "### Recommended Action:\n",
      "**Shoot** \n",
      "\n",
      "### Direction:\n",
      "Assuming the goal is directly in front of the user-controlled player, this action should be taken towards the goal, which is approximately **0°** from the player's perspective. \n",
      "\n",
      "This allows for a strong opportunity to score given the positioning and current game state.\n"
     ]
    }
   ],
   "source": [
    "# Print the caption\n",
    "caption = response.choices[0].message.content\n",
    "print(\"Suggested Caption:\", caption)\n"
   ]
  }
 ],
 "metadata": {
  "kernelspec": {
   "display_name": "urban-palm-tree-py3.10",
   "language": "python",
   "name": "python3"
  },
  "language_info": {
   "codemirror_mode": {
    "name": "ipython",
    "version": 3
   },
   "file_extension": ".py",
   "mimetype": "text/x-python",
   "name": "python",
   "nbconvert_exporter": "python",
   "pygments_lexer": "ipython3",
   "version": "3.10.14"
  }
 },
 "nbformat": 4,
 "nbformat_minor": 2
}

{
 "cells": [
  {
   "cell_type": "markdown",
   "metadata": {},
   "source": [
    "# Developing a Model to Analyze Rush Game Screenshots\n",
    "\n",
    "## Environment Setup"
   ]
  },
  {
   "cell_type": "code",
   "execution_count": null,
   "metadata": {},
   "outputs": [],
   "source": [
    "%%capture\n",
    "%pip install huggingface_hub numpy python-dotenv ultralytics"
   ]
  },
  {
   "cell_type": "markdown",
   "metadata": {},
   "source": [
    "## Training\n",
    "Train a model to classify objects within a screenshot of the Rush game type."
   ]
  },
  {
   "cell_type": "code",
   "execution_count": null,
   "metadata": {},
   "outputs": [],
   "source": [
    "from ultralytics import YOLO\n",
    "import os\n",
    "\n",
    "model = YOLO(\"yolo11m.pt\")  # Using YOLOv11n\n",
    "\n",
    "# Define the dataset path\n",
    "dataset_path = os.path.expanduser(\"~/Downloads/project/dataset.yaml\")  # Use os.path.expanduser to handle '~'\n",
    "\n",
    "# Train model\n",
    "model.train(\n",
    "    data=dataset_path,  # Updated path to the dataset YAML\n",
    "    imgsz=640,\n",
    "    epochs=50,\n",
    "    batch=16,\n",
    "    name=\"yolo_training\",\n",
    ")"
   ]
  },
  {
   "cell_type": "markdown",
   "metadata": {},
   "source": [
    "## Inference"
   ]
  },
  {
   "cell_type": "code",
   "execution_count": null,
   "metadata": {},
   "outputs": [],
   "source": [
    "import os\n",
    "from ultralytics import YOLO\n",
    "import cv2\n",
    "import matplotlib.pyplot as plt\n",
    "\n",
    "# Load the trained YOLO model\n",
    "model_path = os.path.expanduser(\"~/Documents/Rush/best.pt\")\n",
    "model = YOLO(model_path)  # Replace with the correct path to your best weights file.\n",
    "\n",
    "# Define the path to the images for inference\n",
    "image_dir = os.path.expanduser(\"../screenshots/jpg/new-screenshots(2025-02-09)\")\n",
    "\n",
    "# List all image files in the directory\n",
    "image_files = [f for f in os.listdir(image_dir) if f.endswith(('.jpg', '.jpeg', '.png'))]\n",
    "\n",
    "# Function to perform inference and display results\n",
    "def run_inference(image_path):\n",
    "    # Load image using OpenCV\n",
    "    img = cv2.imread(image_path)\n",
    "    img_rgb = cv2.cvtColor(img, cv2.COLOR_BGR2RGB)  # Convert from BGR to RGB\n",
    "    \n",
    "    # Perform inference\n",
    "    results = model(img_rgb, conf=0.2)\n",
    "    \n",
    "    # Render results on the image\n",
    "    annotated_img = results[0].plot()  # Annotate the image with results\n",
    "\n",
    "    # Display the image\n",
    "    plt.figure(figsize=(10, 10))\n",
    "    plt.imshow(annotated_img)\n",
    "    plt.axis(\"off\")\n",
    "    plt.show()\n",
    "\n",
    "# Run inference for each image in the directory\n",
    "for image_file in image_files:\n",
    "    image_path = os.path.join(image_dir, image_file)\n",
    "    run_inference(image_path)"
   ]
  }
 ],
 "metadata": {
  "kernelspec": {
   "display_name": ".venv",
   "language": "python",
   "name": "python3"
  },
  "language_info": {
   "codemirror_mode": {
    "name": "ipython",
    "version": 3
   },
   "file_extension": ".py",
   "mimetype": "text/x-python",
   "name": "python",
   "nbconvert_exporter": "python",
   "pygments_lexer": "ipython3",
   "version": "3.10.14"
  }
 },
 "nbformat": 4,
 "nbformat_minor": 2
}

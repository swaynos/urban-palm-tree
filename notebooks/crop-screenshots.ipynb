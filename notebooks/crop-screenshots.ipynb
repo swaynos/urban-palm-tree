{
 "cells": [
  {
   "cell_type": "markdown",
   "metadata": {},
   "source": [
    "# Crop Screenshots Notebook\n",
    "\n",
    "This notebook is designed to crop JPEG images generated from PNG screenshots. \n",
    "Using the Python Imaging Library (Pillow), it processes each JPEG image located in a specified input directory, \n",
    "applies a predefined bounding box to crop the images, and saves the cropped versions in a designated output directory. \n",
    "The cropping is particularly useful for isolating specific parts of the images, such as selections or highlights, \n",
    "to focus on relevant content.\n",
    "\n",
    "## Features:\n",
    "- Automatically searches for JPEG images in the input directory.\n",
    "- Crops images based on specified pixel coordinates for a bounding box.\n",
    "- Saves the cropped images with a modified filename to differentiate them from the originals.\n",
    "- Produces console output for each cropped image, indicating conversion success.\n",
    "\n",
    "Ensure that the input directory contains JPEG images before running the notebook, and modify the \n",
    "bounding box dimensions as needed to achieve the desired cropping effect."
   ]
  },
  {
   "cell_type": "code",
   "execution_count": null,
   "metadata": {},
   "outputs": [],
   "source": [
    "%pip install pillow"
   ]
  },
  {
   "cell_type": "code",
   "execution_count": 1,
   "metadata": {},
   "outputs": [],
   "source": [
    "# Bounding box (in pixels)\n",
    "SQUAD_BATTLES_SELECTION_BBOX = (140, 363, 140 + 290, 363 + 545)  # (left, upper, right, lower)"
   ]
  },
  {
   "cell_type": "code",
   "execution_count": null,
   "metadata": {},
   "outputs": [],
   "source": [
    "import os\n",
    "from PIL import Image\n",
    "\n",
    "# Input and output directories for image processing\n",
    "input_dir = '../screenshots/jpg'\n",
    "output_dir = '../screenshots/jpg/cropped'\n",
    "\n",
    "# Create the output directory if it doesn't already exist to store cropped images\n",
    "os.makedirs(output_dir, exist_ok=True)\n",
    "\n",
    "# Define the cropping box coordinates (left, upper, right, lower) for the crop area\n",
    "SQUAD_BATTLES_SELECTION_BBOX = (140, 363, 140 + 290, 363 + 545)  # Example crop box\n",
    "\n",
    "# Loop through all files in the input directory\n",
    "for file_name in os.listdir(input_dir):\n",
    "    # Check if the file is a JPG image (case insensitive)\n",
    "    if file_name.lower().endswith('.jpg'):\n",
    "        # Construct the full file path for the current image\n",
    "        jpg_file_path = os.path.join(input_dir, file_name)\n",
    "        \n",
    "        # Create the output file name by appending '_cropped' to the base name\n",
    "        base_name = os.path.splitext(file_name)[0]\n",
    "        cropped_file_path = os.path.join(output_dir, f\"{base_name}_cropped.jpg\")\n",
    "        \n",
    "        # Open the JPG file using the PIL library\n",
    "        with Image.open(jpg_file_path) as img:\n",
    "            # Crop the image using the defined crop box\n",
    "            cropped_img = img.crop(SQUAD_BATTLES_SELECTION_BBOX)\n",
    "            # Save the cropped image to the output directory as a JPG with specified quality\n",
    "            cropped_img.save(cropped_file_path, 'JPEG', quality=90)  # Adjust quality if needed\n",
    "        \n",
    "        # Print the file paths of the original and cropped images for reference\n",
    "        print(f\"Cropped: {jpg_file_path} -> {cropped_file_path}\")\n",
    "\n",
    "# Indicate that the cropping process has completed\n",
    "print(\"Cropping completed. Check the output directory.\")\n"
   ]
  }
 ],
 "metadata": {
  "kernelspec": {
   "display_name": "jupyter",
   "language": "python",
   "name": "python3"
  },
  "language_info": {
   "codemirror_mode": {
    "name": "ipython",
    "version": 3
   },
   "file_extension": ".py",
   "mimetype": "text/x-python",
   "name": "python",
   "nbconvert_exporter": "python",
   "pygments_lexer": "ipython3",
   "version": "3.10.14"
  }
 },
 "nbformat": 4,
 "nbformat_minor": 2
}

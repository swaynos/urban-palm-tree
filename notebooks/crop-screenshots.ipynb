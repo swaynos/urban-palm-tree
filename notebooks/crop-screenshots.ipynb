{
 "cells": [
  {
   "cell_type": "markdown",
   "metadata": {},
   "source": [
    "# Crop Screenshots Notebook\n",
    "\n",
    "This notebook is designed to crop JPEG images generated from PNG screenshots. \n",
    "Using the Python Imaging Library (Pillow), it processes each JPEG image located in a specified input directory, \n",
    "applies a predefined bounding box to crop the images, and saves the cropped versions in a designated output directory. \n",
    "The cropping is particularly useful for isolating specific parts of the images, such as selections or highlights, \n",
    "to focus on relevant content.\n",
    "\n",
    "## Features:\n",
    "- Automatically searches for JPEG images in the input directory.\n",
    "- Crops images based on specified pixel coordinates for a bounding box.\n",
    "- Saves the cropped images with a modified filename to differentiate them from the originals.\n",
    "- Produces console output for each cropped image, indicating conversion success.\n",
    "\n",
    "Ensure that the input directory contains JPEG images before running the notebook, and modify the \n",
    "bounding box dimensions as needed to achieve the desired cropping effect.\n",
    "\n",
    "## Setup:"
   ]
  },
  {
   "cell_type": "code",
   "execution_count": null,
   "metadata": {},
   "outputs": [],
   "source": [
    "# Import necessary libraries\n",
    "import os\n",
    "from PIL import Image\n",
    "import matplotlib.pyplot as plt"
   ]
  },
  {
   "cell_type": "code",
   "execution_count": null,
   "metadata": {},
   "outputs": [],
   "source": [
    "# Define any bounding boxes to be used\n",
    "\n",
    "# Bounding box (in pixels)\n",
    "SQUAD_BATTLES_SELECTION_BBOX = (140, 363, 140 + 290, 363 + 545)  # (left, upper, right, lower)"
   ]
  },
  {
   "cell_type": "code",
   "execution_count": null,
   "metadata": {},
   "outputs": [],
   "source": [
    "# Set up input and output directories for image processing\n",
    "input_dir = '../screenshots/jpg'\n",
    "output_dir = '../screenshots/jpg/cropped'\n",
    "os.makedirs(output_dir, exist_ok=True)"
   ]
  },
  {
   "cell_type": "markdown",
   "metadata": {},
   "source": [
    "### Functions:\n",
    "Define different cropping functions below."
   ]
  },
  {
   "cell_type": "code",
   "execution_count": null,
   "metadata": {},
   "outputs": [],
   "source": [
    "# Function to crop and resize the image to new size, while maintain the aspect ratio of 16x9\n",
    "# TODO: This function was moved to ImageWrapper class, use the same implementation from this notebook\n",
    "def crop_and_resize_to_height(image_path, height, width):\n",
    "    img = Image.open(image_path)\n",
    "\n",
    "    original_width, original_height = img.size\n",
    "\n",
    "    aspect_ratio = 16 / 9\n",
    "\n",
    "    # Calculate new dimensions maintaining the aspect ratio\n",
    "    if original_width / original_height >= aspect_ratio:\n",
    "        # Image is wider than 16:9\n",
    "        new_height = original_height\n",
    "        new_width = int(original_height * aspect_ratio)\n",
    "    else:\n",
    "        # Image is taller than 16:9\n",
    "        new_width = original_width\n",
    "        new_height = int(original_width / aspect_ratio)\n",
    "    \n",
    "    # Calculate the cropping box to crop from the center\n",
    "    left = (original_width - new_width) / 2\n",
    "    top = (original_height - new_height) / 2\n",
    "    right = (original_width + new_width) / 2\n",
    "    bottom = (original_height + new_height) / 2\n",
    "\n",
    "    # Crop the image\n",
    "    cropped_img = img.crop((left, top, right, bottom))\n",
    "    \n",
    "    # Resize the image to new size\n",
    "    resized_img = cropped_img.resize((width, height), Image.LANCZOS)\n",
    "\n",
    "    return resized_img\n",
    "\n",
    "# Function to crop based on a predefined bounding box\n",
    "def crop_with_bbox(image_path, bbox):\n",
    "    img = Image.open(image_path)\n",
    "    cropped_img = img.crop(bbox)\n",
    "    return cropped_img\n",
    "\n",
    "# Function to save cropped images\n",
    "def save_image(image, file_path):\n",
    "    image.save(file_path, 'JPEG', quality=90)\n",
    "    print(f\"Saved: {file_path}\")\n",
    "\n",
    "# Function for batch cropping with bounding box\n",
    "def batch_crop_with_bbox(input_dir, output_dir, bbox):\n",
    "    os.makedirs(output_dir, exist_ok=True)\n",
    "    for file_name in os.listdir(input_dir):\n",
    "        if file_name.lower().endswith('.jpg'):\n",
    "            jpg_file_path = os.path.join(input_dir, file_name)\n",
    "            base_name = os.path.splitext(file_name)[0]\n",
    "            cropped_file_path = os.path.join(output_dir, f\"{base_name}_cropped.jpg\")\n",
    "\n",
    "            cropped_img = crop_with_bbox(jpg_file_path, bbox)\n",
    "            save_image(cropped_img, cropped_file_path)\n",
    "\n",
    "# Function for batch processing of images, preserves 16x9 aspect ratio with provided height\n",
    "def batch_crop_and_resize_to_height(input_dir, output_dir, height = 1080):\n",
    "    # calculate the desired width using 16x9 aspect ratio and provided height\n",
    "    width = int(height * 16 / 9)\n",
    "\n",
    "    os.makedirs(output_dir, exist_ok=True)\n",
    "    for file_name in os.listdir(input_dir):\n",
    "        if file_name.lower().endswith('.jpg'):\n",
    "            jpg_file_path = os.path.join(input_dir, file_name)\n",
    "            base_name = os.path.splitext(file_name)[0]\n",
    "            cropped_file_path = os.path.join(output_dir, f\"{base_name}_cropped.jpg\")\n",
    "\n",
    "            resized_img = crop_and_resize_to_height(jpg_file_path, height, width)\n",
    "            save_image(resized_img, cropped_file_path)"
   ]
  },
  {
   "cell_type": "markdown",
   "metadata": {},
   "source": [
    "## Use Cases:"
   ]
  },
  {
   "cell_type": "code",
   "execution_count": null,
   "metadata": {},
   "outputs": [],
   "source": [
    "# 1. Batch crop to centered height\n",
    "batch_crop_and_resize_to_height(input_dir, output_dir, height = 1080)"
   ]
  },
  {
   "cell_type": "code",
   "execution_count": null,
   "metadata": {},
   "outputs": [],
   "source": [
    "# 2. Batch crop using bounding box\n",
    "#batch_crop_with_bbox(input_dir, output_dir, SQUAD_BATTLES_SELECTION_BBOX)"
   ]
  }
 ],
 "metadata": {
  "kernelspec": {
   "display_name": "jupyter",
   "language": "python",
   "name": "python3"
  },
  "language_info": {
   "codemirror_mode": {
    "name": "ipython",
    "version": 3
   },
   "file_extension": ".py",
   "mimetype": "text/x-python",
   "name": "python",
   "nbconvert_exporter": "python",
   "pygments_lexer": "ipython3",
   "version": "3.10.14"
  }
 },
 "nbformat": 4,
 "nbformat_minor": 2
}

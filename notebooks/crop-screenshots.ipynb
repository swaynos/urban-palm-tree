{
 "cells": [
  {
   "cell_type": "markdown",
   "metadata": {},
   "source": [
    "# Crop Screenshots Notebook\n",
    "\n",
    "This notebook is designed to crop JPEG images generated from PNG screenshots. \n",
    "Using the Python Imaging Library (Pillow), it processes each JPEG image located in a specified input directory, \n",
    "applies a predefined bounding box to crop the images, and saves the cropped versions in a designated output directory. \n",
    "The cropping is particularly useful for isolating specific parts of the images, such as selections or highlights, \n",
    "to focus on relevant content.\n",
    "\n",
    "## Features:\n",
    "- Automatically searches for JPEG images in the input directory.\n",
    "- Crops images based on specified pixel coordinates for a bounding box.\n",
    "- Saves the cropped images with a modified filename to differentiate them from the originals.\n",
    "- Produces console output for each cropped image, indicating conversion success.\n",
    "\n",
    "Ensure that the input directory contains JPEG images before running the notebook, and modify the \n",
    "bounding box dimensions as needed to achieve the desired cropping effect.\n",
    "\n",
    "## Setup:"
   ]
  },
  {
   "cell_type": "code",
   "execution_count": 7,
   "metadata": {},
   "outputs": [],
   "source": [
    "# Import necessary libraries\n",
    "import os\n",
    "from PIL import Image\n",
    "import matplotlib.pyplot as plt"
   ]
  },
  {
   "cell_type": "code",
   "execution_count": 8,
   "metadata": {},
   "outputs": [],
   "source": [
    "# Define any bounding boxes to be used\n",
    "\n",
    "# Bounding box (in pixels)\n",
    "SQUAD_BATTLES_SELECTION_BBOX = (140, 363, 140 + 290, 363 + 545)  # (left, upper, right, lower)"
   ]
  },
  {
   "cell_type": "code",
   "execution_count": 9,
   "metadata": {},
   "outputs": [],
   "source": [
    "# Set up input and output directories for image processing\n",
    "input_dir = '../screenshots/jpg'\n",
    "output_dir = '../screenshots/jpg/cropped'\n",
    "os.makedirs(output_dir, exist_ok=True)"
   ]
  },
  {
   "cell_type": "markdown",
   "metadata": {},
   "source": [
    "### Functions:\n",
    "Define different cropping functions below."
   ]
  },
  {
   "cell_type": "code",
   "execution_count": 12,
   "metadata": {},
   "outputs": [],
   "source": [
    "# Function to crop and resize the image to maintain the aspect ratio of 1920:1080\n",
    "def crop_and_resize_to_1080p(image_path):\n",
    "    img = Image.open(image_path)\n",
    "\n",
    "    original_width, original_height = img.size\n",
    "    aspect_ratio = 1920 / 1080\n",
    "\n",
    "    # Calculate new dimensions maintaining the aspect ratio\n",
    "    if original_width / original_height >= aspect_ratio:\n",
    "        # Image is wider than 16:9\n",
    "        new_height = original_height\n",
    "        new_width = int(original_height * aspect_ratio)\n",
    "    else:\n",
    "        # Image is taller than 16:9\n",
    "        new_width = original_width\n",
    "        new_height = int(original_width / aspect_ratio)\n",
    "    \n",
    "    # Calculate the cropping box to crop from the center\n",
    "    left = (original_width - new_width) / 2\n",
    "    top = (original_height - new_height) / 2\n",
    "    right = (original_width + new_width) / 2\n",
    "    bottom = (original_height + new_height) / 2\n",
    "\n",
    "    # Crop the image\n",
    "    cropped_img = img.crop((left, top, right, bottom))\n",
    "    \n",
    "    # Resize the image to 1080p\n",
    "    resized_img = cropped_img.resize((1920, 1080), Image.LANCZOS)\n",
    "\n",
    "    return resized_img\n",
    "\n",
    "# Function to crop based on a predefined bounding box\n",
    "def crop_with_bbox(image_path, bbox):\n",
    "    img = Image.open(image_path)\n",
    "    cropped_img = img.crop(bbox)\n",
    "    return cropped_img\n",
    "\n",
    "# Function to save cropped images\n",
    "def save_image(image, file_path):\n",
    "    image.save(file_path, 'JPEG', quality=90)\n",
    "    print(f\"Saved: {file_path}\")\n",
    "\n",
    "# Function for batch cropping with bounding box\n",
    "def batch_crop_with_bbox(input_dir, output_dir, bbox):\n",
    "    os.makedirs(output_dir, exist_ok=True)\n",
    "    for file_name in os.listdir(input_dir):\n",
    "        if file_name.lower().endswith('.jpg'):\n",
    "            jpg_file_path = os.path.join(input_dir, file_name)\n",
    "            base_name = os.path.splitext(file_name)[0]\n",
    "            cropped_file_path = os.path.join(output_dir, f\"{base_name}_cropped.jpg\")\n",
    "\n",
    "            cropped_img = crop_with_bbox(jpg_file_path, bbox)\n",
    "            save_image(cropped_img, cropped_file_path)\n",
    "\n",
    "# Function for batch processing of images\n",
    "def batch_crop_and_resize_to_1080p(input_dir, output_dir):\n",
    "    os.makedirs(output_dir, exist_ok=True)\n",
    "    for file_name in os.listdir(input_dir):\n",
    "        if file_name.lower().endswith('.jpg'):\n",
    "            jpg_file_path = os.path.join(input_dir, file_name)\n",
    "            base_name = os.path.splitext(file_name)[0]\n",
    "            cropped_file_path = os.path.join(output_dir, f\"{base_name}_cropped.jpg\")\n",
    "\n",
    "            resized_img = crop_and_resize_to_1080p(jpg_file_path)\n",
    "            save_image(resized_img, cropped_file_path)"
   ]
  },
  {
   "cell_type": "markdown",
   "metadata": {},
   "source": [
    "## Use Cases:"
   ]
  },
  {
   "cell_type": "code",
   "execution_count": 13,
   "metadata": {},
   "outputs": [
    {
     "name": "stdout",
     "output_type": "stream",
     "text": [
      "Saved: ../screenshots/jpg/cropped/new-screenshot1738871871.673785_cropped.jpg\n",
      "Saved: ../screenshots/jpg/cropped/new-screenshot1738871994.79851_cropped.jpg\n",
      "Saved: ../screenshots/jpg/cropped/new-screenshot1738871626.05634_cropped.jpg\n",
      "Saved: ../screenshots/jpg/cropped/new-screenshot1738871609.9618182_cropped.jpg\n",
      "Saved: ../screenshots/jpg/cropped/new-screenshot1738871632.0353642_cropped.jpg\n",
      "Saved: ../screenshots/jpg/cropped/new-screenshot1738872150.510043_cropped.jpg\n",
      "Saved: ../screenshots/jpg/cropped/new-screenshot1738871899.821942_cropped.jpg\n",
      "Saved: ../screenshots/jpg/cropped/new-screenshot1738872044.329857_cropped.jpg\n",
      "Saved: ../screenshots/jpg/cropped/new-screenshot1738871599.1558552_cropped.jpg\n",
      "Saved: ../screenshots/jpg/cropped/new-screenshot1738871914.2988002_cropped.jpg\n",
      "Saved: ../screenshots/jpg/cropped/new-screenshot1738872164.021826_cropped.jpg\n",
      "Saved: ../screenshots/jpg/cropped/new-screenshot1738871796.5500212_cropped.jpg\n",
      "Saved: ../screenshots/jpg/cropped/new-screenshot1738871778.8609762_cropped.jpg\n",
      "Saved: ../screenshots/jpg/cropped/new-screenshot1738871828.336194_cropped.jpg\n",
      "Saved: ../screenshots/jpg/cropped/new-screenshot1738871593.4869251_cropped.jpg\n",
      "Saved: ../screenshots/jpg/cropped/new-screenshot1738872017.75407_cropped.jpg\n",
      "Saved: ../screenshots/jpg/cropped/new-screenshot1738871604.80864_cropped.jpg\n",
      "Saved: ../screenshots/jpg/cropped/new-screenshot1738871806.006956_cropped.jpg\n",
      "Saved: ../screenshots/jpg/cropped/new-screenshot1738871620.6087198_cropped.jpg\n",
      "Saved: ../screenshots/jpg/cropped/new-screenshot1738872073.666906_cropped.jpg\n",
      "Saved: ../screenshots/jpg/cropped/new-screenshot1738871663.524713_cropped.jpg\n",
      "Saved: ../screenshots/jpg/cropped/new-screenshot1738871698.835832_cropped.jpg\n",
      "Saved: ../screenshots/jpg/cropped/new-screenshot1738872113.6748421_cropped.jpg\n",
      "Saved: ../screenshots/jpg/cropped/new-screenshot1738871714.240306_cropped.jpg\n",
      "Saved: ../screenshots/jpg/cropped/new-screenshot1738872058.957532_cropped.jpg\n",
      "Saved: ../screenshots/jpg/cropped/new-screenshot1738871787.6641521_cropped.jpg\n",
      "Saved: ../screenshots/jpg/cropped/new-screenshot1738872005.684798_cropped.jpg\n",
      "Saved: ../screenshots/jpg/cropped/new-screenshot1738871940.644195_cropped.jpg\n",
      "Saved: ../screenshots/jpg/cropped/new-screenshot1738871748.002084_cropped.jpg\n",
      "Saved: ../screenshots/jpg/cropped/new-screenshot1738871760.316473_cropped.jpg\n",
      "Saved: ../screenshots/jpg/cropped/new-screenshot1738872101.0823932_cropped.jpg\n",
      "Saved: ../screenshots/jpg/cropped/new-screenshot1738871676.351767_cropped.jpg\n",
      "Saved: ../screenshots/jpg/cropped/new-screenshot1738871815.691978_cropped.jpg\n",
      "Saved: ../screenshots/jpg/cropped/new-screenshot1738871732.0062678_cropped.jpg\n",
      "Saved: ../screenshots/jpg/cropped/new-screenshot1738871885.169332_cropped.jpg\n",
      "Saved: ../screenshots/jpg/cropped/new-screenshot1738872175.6580648_cropped.jpg\n",
      "Saved: ../screenshots/jpg/cropped/new-screenshot1738872087.7022238_cropped.jpg\n",
      "Saved: ../screenshots/jpg/cropped/new-screenshot1738871701.85423_cropped.jpg\n",
      "Saved: ../screenshots/jpg/cropped/new-screenshot1738871687.865769_cropped.jpg\n",
      "Saved: ../screenshots/jpg/cropped/new-screenshot1738871615.203985_cropped.jpg\n",
      "Saved: ../screenshots/jpg/cropped/new-screenshot1738871967.9665_cropped.jpg\n",
      "Saved: ../screenshots/jpg/cropped/new-screenshot1738871981.91996_cropped.jpg\n",
      "Saved: ../screenshots/jpg/cropped/new-screenshot1738872124.508919_cropped.jpg\n",
      "Saved: ../screenshots/jpg/cropped/new-screenshot1738871769.8972092_cropped.jpg\n",
      "Saved: ../screenshots/jpg/cropped/new-screenshot1738872137.484954_cropped.jpg\n",
      "Saved: ../screenshots/jpg/cropped/new-screenshot1738871927.600619_cropped.jpg\n",
      "Saved: ../screenshots/jpg/cropped/new-screenshot1738871858.417349_cropped.jpg\n",
      "Saved: ../screenshots/jpg/cropped/new-screenshot1738871717.5220292_cropped.jpg\n",
      "Saved: ../screenshots/jpg/cropped/new-screenshot1738871638.428573_cropped.jpg\n",
      "Saved: ../screenshots/jpg/cropped/new-screenshot1738871843.808096_cropped.jpg\n",
      "Saved: ../screenshots/jpg/cropped/new-screenshot1738872030.21406_cropped.jpg\n",
      "Saved: ../screenshots/jpg/cropped/new-screenshot1738871953.139688_cropped.jpg\n",
      "Saved: ../screenshots/jpg/cropped/new-screenshot1738871649.091389_cropped.jpg\n"
     ]
    }
   ],
   "source": [
    "# 1. Batch crop to centered 1080p\n",
    "batch_crop_and_resize_to_1080p(input_dir, output_dir)"
   ]
  },
  {
   "cell_type": "code",
   "execution_count": 6,
   "metadata": {},
   "outputs": [],
   "source": [
    "# 2. Batch crop using bounding box\n",
    "#batch_crop_with_bbox(input_dir, output_dir, SQUAD_BATTLES_SELECTION_BBOX)"
   ]
  }
 ],
 "metadata": {
  "kernelspec": {
   "display_name": "jupyter",
   "language": "python",
   "name": "python3"
  },
  "language_info": {
   "codemirror_mode": {
    "name": "ipython",
    "version": 3
   },
   "file_extension": ".py",
   "mimetype": "text/x-python",
   "name": "python",
   "nbconvert_exporter": "python",
   "pygments_lexer": "ipython3",
   "version": "3.10.14"
  }
 },
 "nbformat": 4,
 "nbformat_minor": 2
}

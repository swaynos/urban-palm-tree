{
  "cells": [
    {
      "cell_type": "markdown",
      "metadata": {
        "id": "t_M_rmW4yqpa"
      },
      "source": [
        "# FC25 Rush YOLO Model Training\n",
        "Train a YOLO detection model on screenshots from the Rush gametype while playing FC25. This notebook is built with the intention of being run on Google Colab.\n",
        "\n",
        "## Environment Setup"
      ]
    },
    {
      "cell_type": "code",
      "execution_count": null,
      "metadata": {
        "id": "QP2AOUzE2OS6"
      },
      "outputs": [],
      "source": [
        "%%capture\n",
        "%pip install huggingface_hub numpy python-dotenv ultralytics"
      ]
    },
    {
      "cell_type": "markdown",
      "metadata": {
        "id": "KLiwblMwykd8"
      },
      "source": [
        "## Mount Google Drive for the Data\n",
        "In the future, we can use huggingface to host and retrieve our datasets from."
      ]
    },
    {
      "cell_type": "code",
      "execution_count": null,
      "metadata": {
        "colab": {
          "base_uri": "https://localhost:8080/"
        },
        "id": "DBsaJ2nLyhEn",
        "outputId": "d71b2f98-fabb-49c5-e798-ded23bea82f9"
      },
      "outputs": [],
      "source": [
        "import os\n",
        "\n",
        "from ultralytics import YOLO\n",
        "\n",
        "from google.colab import drive\n",
        "drive.mount('/content/drive')\n",
        "\n",
        "# Define paths in Google Drive\n",
        "drive_path = \"/content/drive/MyDrive/FC25-Rush\"  # Base Drive directory\n",
        "dataset_path = os.path.join(drive_path, \"data/dataset.yaml\")  # Dataset path\n",
        "output_dir = os.path.join(drive_path, \"training_results\")  # Output directory"
      ]
    },
    {
      "cell_type": "markdown",
      "metadata": {
        "id": "_5UhIfqyyhsn"
      },
      "source": [
        "## Run Training"
      ]
    },
    {
      "cell_type": "code",
      "execution_count": null,
      "metadata": {
        "colab": {
          "base_uri": "https://localhost:8080/"
        },
        "id": "j-5-v8g32uRw",
        "outputId": "4dada4a5-7e95-4852-89c0-193852464ee8"
      },
      "outputs": [],
      "source": [
        "# Load YOLOv8 model\n",
        "model = YOLO(\"yolo11m.pt\")  # Using YOLOv11m\n",
        "\n",
        "# Train model with results saved to Google Drive\n",
        "model.train(\n",
        "    data=dataset_path,\n",
        "    imgsz=640,\n",
        "    epochs=50,\n",
        "    batch=16,\n",
        "    name=\"yolo_training\",\n",
        "    project=output_dir  # Save results to Google Drive\n",
        ")"
      ]
    }
  ],
  "metadata": {
    "accelerator": "GPU",
    "colab": {
      "gpuType": "T4",
      "provenance": []
    },
    "kernelspec": {
      "display_name": "Python 3",
      "name": "python3"
    },
    "language_info": {
      "name": "python"
    }
  },
  "nbformat": 4,
  "nbformat_minor": 0
}

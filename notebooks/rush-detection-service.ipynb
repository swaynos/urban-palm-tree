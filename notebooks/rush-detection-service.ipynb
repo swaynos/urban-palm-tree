{
 "cells": [
  {
   "cell_type": "markdown",
   "metadata": {},
   "source": [
    "# FC25 Rush Detection Model\n",
    "## Deploy as a Service\n",
    "This notebook will deploy the Rush detection model as a service. The goal is to leverage as much project code as possible, and to keep this notebook as lightweight as possible.\n",
    "\n",
    "Ideally, this notebook will be run on a local subnet, and the service will be accessed via a local IP address. Alternatively, it could be run on colab, and accessed via a public address.\n",
    "\n",
    "### Setup\n",
    "From your colab notebook, you should be able to run the following commands to setup the environment.\n",
    "\n",
    "```\n",
    "%%capture\n",
    "%%sh\n",
    "git clone https://github.com/swaynos/urban-palm-tree.git\n",
    "pip install poetry\n",
    "\n",
    "%cd urban-palm-tree\n",
    "\n",
    "%%sh\n",
    "poetry install\n",
    "```"
   ]
  },
  {
   "cell_type": "code",
   "execution_count": null,
   "metadata": {},
   "outputs": [],
   "source": [
    "import sys\n",
    "import os\n",
    "\n",
    "# Check if the current working directory is under 'notebooks'\n",
    "if 'notebooks' in os.getcwd().split(os.sep):\n",
    "    # Adjust the path to include the 'src' directory\n",
    "    sys.path.append(os.path.abspath(os.path.join('..', 'src')))  # This adds the correct src path\n",
    "\n",
    "# Verify the current system path\n",
    "print(sys.path)"
   ]
  },
  {
   "cell_type": "markdown",
   "metadata": {},
   "source": [
    "## Run the Flask App from Local Machine"
   ]
  },
  {
   "cell_type": "code",
   "execution_count": null,
   "metadata": {},
   "outputs": [],
   "source": [
    "import asyncio\n",
    "from flask import Flask, request, jsonify\n",
    "from inference.yolo_object_detector import YoloObjectDetector\n",
    "from inference.rush_inference import parse_rush_model_results\n",
    "from utilities import config\n",
    "from PIL import Image\n",
    "\n",
    "# Create a Flask app\n",
    "app = Flask(__name__)\n",
    "\n",
    "PORT = 8080\n",
    "\n",
    "# Initialize the detector\n",
    "detector = YoloObjectDetector(config.HF_RUSH_DETECTION_PATH, config.HF_RUSH_DETECTION_FILENAME)\n",
    "\n",
    "# Define a route for the inference\n",
    "@app.route('/detect', methods=['POST'])\n",
    "def detect_objects():\n",
    "    # Check if an image file was provided\n",
    "    if 'file' not in request.files:\n",
    "        return jsonify({'error': 'No file part'}), 400\n",
    "    file = request.files['file']\n",
    "    \n",
    "    if file.filename == '':\n",
    "        return jsonify({'error': 'No selected file'}), 400\n",
    "\n",
    "    try:\n",
    "        # Open the image file\n",
    "        image = Image.open(file)\n",
    "\n",
    "        # Run the detector. Keep in mind this is a syncrhonous operation\n",
    "        results = asyncio.run(detector.detect_objects(image, parse_rush_model_results))\n",
    "        \n",
    "        # Return the results as JSON\n",
    "        return jsonify(results), 200\n",
    "    except Exception as e:\n",
    "        return jsonify({'error': str(e)}), 500\n",
    "\n",
    "# Run the app\n",
    "if __name__ == '__main__':\n",
    "    app.run(host='0.0.0.0', port=PORT)"
   ]
  },
  {
   "cell_type": "markdown",
   "metadata": {},
   "source": [
    "## Run the Flask App from Google Colab"
   ]
  },
  {
   "cell_type": "code",
   "execution_count": null,
   "metadata": {},
   "outputs": [],
   "source": [
    "# If running on Colab\n",
    "!pip install pyngrok\n",
    "from pyngrok import ngrok\n",
    "import os\n",
    "\n",
    "# Authenticate ngrok with your token\n",
    "NGROK = \"\"  # Replace with your ngrok token\n",
    "ngrok.set_auth_token(NGROK)\n",
    "\n",
    "# Define a function to start Flask\n",
    "def run_app():\n",
    "    os.system(f\"python3 -m flask run --host=0.0.0.0 --port={PORT}\")\n",
    "\n",
    "# Start Flask in the background\n",
    "import threading\n",
    "threading.Thread(target=run_app).start()\n",
    "\n",
    "# Step 5: Set up ngrok tunnel\n",
    "public_url = ngrok.connect(PORT)\n",
    "print(f\"ngrok tunnel \\\"{public_url}\\\" -> \\\"http://127.0.0.1:{PORT}\\\"\")"
   ]
  }
 ],
 "metadata": {
  "kernelspec": {
   "display_name": ".venv",
   "language": "python",
   "name": "python3"
  },
  "language_info": {
   "codemirror_mode": {
    "name": "ipython",
    "version": 3
   },
   "file_extension": ".py",
   "mimetype": "text/x-python",
   "name": "python",
   "nbconvert_exporter": "python",
   "pygments_lexer": "ipython3",
   "version": "3.10.14"
  }
 },
 "nbformat": 4,
 "nbformat_minor": 2
}
